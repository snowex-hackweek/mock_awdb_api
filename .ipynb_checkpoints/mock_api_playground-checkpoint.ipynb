{
 "cells": [
  {
   "cell_type": "code",
   "execution_count": null,
   "id": "07cbfdca-d8b2-4c77-990e-04398cd2447c",
   "metadata": {},
   "outputs": [],
   "source": [
    "\n",
    "from requests import Session\n",
    "import pandas as pd\n",
    "\n",
    "BASE_URL = \"https://api.snowdata.info/\"\n",
    "\n",
    "with Session() as sesh:\n",
    "    \n"
   ]
  }
 ],
 "metadata": {
  "kernelspec": {
   "display_name": "Python 3 (ipykernel)",
   "language": "python",
   "name": "python3"
  },
  "language_info": {
   "codemirror_mode": {
    "name": "ipython",
    "version": 3
   },
   "file_extension": ".py",
   "mimetype": "text/x-python",
   "name": "python",
   "nbconvert_exporter": "python",
   "pygments_lexer": "ipython3",
   "version": "3.10.5"
  }
 },
 "nbformat": 4,
 "nbformat_minor": 5
}
